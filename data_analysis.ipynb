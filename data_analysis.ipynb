{
 "cells": [
  {
   "cell_type": "code",
   "execution_count": 1,
   "id": "c24f01f8",
   "metadata": {},
   "outputs": [],
   "source": [
    "import numpy as np\n",
    "import pandas as pd\n",
    "import os \n",
    "\n",
    "from matplotlib import pyplot as plt\n",
    "\n",
    "pd.set_option('display.max_columns', None)\n",
    "pd.set_option('display.width', None)"
   ]
  },
  {
   "cell_type": "code",
   "execution_count": 3,
   "id": "7a09403b",
   "metadata": {},
   "outputs": [],
   "source": [
    "cleaned_datasets_path = os.path.abspath(os.path.join('cleaned_datasets'))\n",
    "\n",
    "def load_dataset(filename):\n",
    "    file_path = os.path.join(cleaned_datasets_path, filename)\n",
    "    if not os.path.exists(file_path):\n",
    "        raise FileNotFoundError(f\"File {file_path} does not exist.\")\n",
    "    \n",
    "    return pd.read_csv(file_path)\n",
    "\n",
    "df_sale = load_dataset('rumah123_2025_sale_properties_cleaned.csv')\n",
    "df_rent = load_dataset('rumah123_2025_rent_properties_cleaned.csv')\n",
    "df_sale_2023 = load_dataset('rumah123_2023_sale_properties_cleaned.csv')"
   ]
  },
  {
   "cell_type": "code",
   "execution_count": 4,
   "id": "9b7d77b3",
   "metadata": {},
   "outputs": [
    {
     "data": {
      "text/plain": [
       "'\\n- data understanding: shape, head(), tail(), .sample(10), dtypes, .describe()\\n- \\n'"
      ]
     },
     "execution_count": 4,
     "metadata": {},
     "output_type": "execute_result"
    }
   ],
   "source": [
    "# EXPLORATORY DATA ANALYSIS\n",
    "'''\n",
    "- data understanding: shape, head(), tail(), .sample(10), dtypes, .describe()\n",
    "- \n",
    "'''"
   ]
  },
  {
   "cell_type": "code",
   "execution_count": null,
   "id": "bf5af7df",
   "metadata": {},
   "outputs": [],
   "source": []
  }
 ],
 "metadata": {
  "kernelspec": {
   "display_name": ".venv",
   "language": "python",
   "name": "python3"
  },
  "language_info": {
   "codemirror_mode": {
    "name": "ipython",
    "version": 3
   },
   "file_extension": ".py",
   "mimetype": "text/x-python",
   "name": "python",
   "nbconvert_exporter": "python",
   "pygments_lexer": "ipython3",
   "version": "3.11.4"
  }
 },
 "nbformat": 4,
 "nbformat_minor": 5
}
