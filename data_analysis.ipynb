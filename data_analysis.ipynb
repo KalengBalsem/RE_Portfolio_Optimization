{
 "cells": [
  {
   "cell_type": "code",
   "execution_count": null,
   "id": "9b7d77b3",
   "metadata": {},
   "outputs": [],
   "source": [
    "# DATA ANALYSIS\n",
    "'''\n",
    "- data understanding: shape, head(), tail(), .sample(10), dtypes, .describe()\n",
    "'''"
   ]
  }
 ],
 "metadata": {
  "language_info": {
   "name": "python"
  }
 },
 "nbformat": 4,
 "nbformat_minor": 5
}
