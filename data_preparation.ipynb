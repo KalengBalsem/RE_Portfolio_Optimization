{
 "cells": [
  {
   "cell_type": "code",
   "execution_count": 4,
   "id": "f8110d96",
   "metadata": {},
   "outputs": [],
   "source": [
    "import numpy as np\n",
    "import pandas as pd\n",
    "import os \n",
    "\n",
    "from matplotlib import pyplot as plt\n",
    "\n",
    "pd.set_option('display.max_columns', None)\n",
    "pd.set_option('display.width', None)"
   ]
  },
  {
   "cell_type": "markdown",
   "id": "f76bc490",
   "metadata": {},
   "source": [
    "### LOAD DATASETS & PLANNING"
   ]
  },
  {
   "cell_type": "code",
   "execution_count": 149,
   "id": "b65f43f9",
   "metadata": {},
   "outputs": [],
   "source": [
    "raw_datasets_path = os.path.abspath(os.path.join('raw_datasets'))\n",
    "cleaned_datasets_path = os.path.abspath(os.path.join('cleaned_datasets'))"
   ]
  },
  {
   "cell_type": "code",
   "execution_count": 150,
   "id": "63aed043",
   "metadata": {},
   "outputs": [
    {
     "data": {
      "text/plain": [
       "'c:\\\\Users\\\\balse\\\\Documents\\\\VScode\\\\STIMA-Makalah\\\\STIMA-Makalah-Analysis\\\\raw_datasets\\\\jabodetabek_house_price.csv'"
      ]
     },
     "execution_count": 150,
     "metadata": {},
     "output_type": "execute_result"
    }
   ],
   "source": [
    "os.path.join(raw_datasets_path, 'jabodetabek_house_price.csv')"
   ]
  },
  {
   "cell_type": "code",
   "execution_count": 151,
   "id": "a4894190",
   "metadata": {},
   "outputs": [],
   "source": [
    "# LOAD 2023 PROPERTY SALE DATA\n",
    "def load_data(filename):\n",
    "    return pd.read_csv(os.path.join(raw_datasets_path, filename))\n",
    "\n",
    "df_sale_2023_raw = load_data('jabodetabek_house_price.csv')\n",
    "df_sale_raw = load_data('rumah123_sale_properties.csv')\n",
    "df_rent_raw = load_data('rumah123_rent_properties.csv')"
   ]
  },
  {
   "cell_type": "code",
   "execution_count": 152,
   "id": "801dd086",
   "metadata": {},
   "outputs": [
    {
     "data": {
      "text/plain": [
       "'\\n- data normalization (e.g. price and building area scale are far apart)\\n- One Hot Encoding (categorical -> numerical for XGBoost)\\n'"
      ]
     },
     "execution_count": 152,
     "metadata": {},
     "output_type": "execute_result"
    }
   ],
   "source": [
    "# CLEANING PROCESS:\n",
    "'''\n",
    "- remove building_age feature\n",
    "- re-order columns\n",
    "- rename + re-order sale_2023 data\n",
    "- check the data types of each column\n",
    "    - if not numeric, convert to numeric (e.g. bathrooms, bedrooms)\n",
    "- convert price_in_rp, electricity, land_size, building_size  to numeric\n",
    "\n",
    "- check city unique values. Only keep Jabodetabek cities (Jakarta, Bogor, Depok, Tangerang, Bekasi). -> clean (e.g. Bandung writen as Badung)\n",
    "\n",
    "- remove whitespaces for categorical features. e.g. replace spaces with underscores \" \" -> \"_\".\n",
    "(just for visualization purposes, XGBoost does not care about this)\n",
    "\n",
    "\n",
    "- identify duplicated columns\n",
    "- Handling null/na values: replace/remove\n",
    "\n",
    "- feature understanding (univariate analysis): histogram, KDE, boxplot (identifying outliers).\n",
    "    checking and removing outliers.\n",
    "\n",
    "- Further cleaning based on special cases found in the exploratory data analysis (EDA).\n",
    "'''\n",
    "\n",
    "# DATA PREPARATION (XGBoost)\n",
    "'''\n",
    "- data normalization (e.g. price and building area scale are far apart)\n",
    "- One Hot Encoding (categorical -> numerical for XGBoost)\n",
    "'''"
   ]
  },
  {
   "cell_type": "markdown",
   "id": "b716a1e5",
   "metadata": {},
   "source": [
    "### DATA CLEANING"
   ]
  },
  {
   "cell_type": "code",
   "execution_count": 164,
   "id": "8d678cdd",
   "metadata": {},
   "outputs": [],
   "source": [
    "# Remove building_age feature\n",
    "df_sale = df_sale_raw.drop(columns=['building_age'], errors='ignore')\n",
    "df_rent = df_rent_raw.drop(columns=['building_age'], errors='ignore')\n",
    "\n",
    "# re-order columns\n",
    "df_sale = df_sale[['url', 'title', 'price_in_rp', 'district', 'city' , 'bedrooms', 'bathrooms', 'land_size_m2', 'building_size_m2','certificate', 'electricity_power', 'property_condition', 'floor_count', 'description']]\n",
    "\n",
    "df_rent = df_rent[['url', 'title', 'price_in_rp', 'district', 'city' , 'bedrooms', 'bathrooms', 'land_size_m2', 'building_size_m2','certificate', 'electricity_power', 'property_condition', 'floor_count', 'description']]\n",
    "df_rent.rename(columns={'price_in_rp': 'rent_price_per_year'}, inplace=True)"
   ]
  },
  {
   "cell_type": "code",
   "execution_count": 165,
   "id": "47d79782",
   "metadata": {},
   "outputs": [],
   "source": [
    "# rename + re-order sale_2023 data\n",
    "df_sale_2023 = df_sale_2023_raw.rename(columns={\n",
    "    'url': 'url', \n",
    "    'price_in_rp': 'price_in_rp', \n",
    "    'title': 'title', \n",
    "    # 'address': 'location', \n",
    "    'district': 'district', \n",
    "    'city': 'city', \n",
    "    # 'lat',\n",
    "    # 'long', \n",
    "    'facilities': 'description', \n",
    "    # 'property_type', \n",
    "    # 'ads_id', \n",
    "    'bedrooms': 'bedrooms',\n",
    "    'bathrooms': 'bathrooms', \n",
    "    'land_size_m2': 'land_size_m2', \n",
    "    'building_size_m2': 'building_size_m2', \n",
    "    # 'carports'\n",
    "    'certificate': 'certificate', \n",
    "    'electricity': 'electricity_power', \n",
    "    # 'maid_bedrooms', \n",
    "    # 'maid_bathrooms',\n",
    "    'floors': 'floor_count', \n",
    "    # 'building_age', \n",
    "    # 'year_built', \n",
    "    'property_condition': 'property_condition',\n",
    "    # 'building_orientation', \n",
    "    # 'garages', \n",
    "    # 'furnishing'    \n",
    "}).copy()\n",
    "\n",
    "df_sale_2023 = df_sale_2023[['url', 'title', 'price_in_rp', 'district', 'city' , 'bedrooms', 'bathrooms', 'land_size_m2', 'building_size_m2', 'certificate', 'electricity_power', 'property_condition', 'floor_count', 'description']]"
   ]
  },
  {
   "cell_type": "code",
   "execution_count": 166,
   "id": "87769a76",
   "metadata": {},
   "outputs": [
    {
     "name": "stdout",
     "output_type": "stream",
     "text": [
      "url                    object\n",
      "title                  object\n",
      "price_in_rp            object\n",
      "district               object\n",
      "city                   object\n",
      "bedrooms              float64\n",
      "bathrooms             float64\n",
      "land_size_m2           object\n",
      "building_size_m2       object\n",
      "certificate            object\n",
      "electricity_power      object\n",
      "property_condition     object\n",
      "floor_count           float64\n",
      "description            object\n",
      "dtype: object\n",
      "url                     object\n",
      "title                   object\n",
      "rent_price_per_year     object\n",
      "district                object\n",
      "city                    object\n",
      "bedrooms               float64\n",
      "bathrooms              float64\n",
      "land_size_m2            object\n",
      "building_size_m2        object\n",
      "certificate             object\n",
      "electricity_power       object\n",
      "property_condition      object\n",
      "floor_count            float64\n",
      "description             object\n",
      "dtype: object\n"
     ]
    }
   ],
   "source": [
    "# check the data types of each column prior to conversion\n",
    "print(df_sale.dtypes)\n",
    "print(df_rent.dtypes)"
   ]
  },
  {
   "cell_type": "code",
   "execution_count": 167,
   "id": "56083fa2",
   "metadata": {},
   "outputs": [
    {
     "name": "stdout",
     "output_type": "stream",
     "text": [
      "<class 'pandas.core.frame.DataFrame'>\n",
      "RangeIndex: 8328 entries, 0 to 8327\n",
      "Data columns (total 14 columns):\n",
      " #   Column               Non-Null Count  Dtype  \n",
      "---  ------               --------------  -----  \n",
      " 0   url                  8328 non-null   object \n",
      " 1   title                8327 non-null   object \n",
      " 2   rent_price_per_year  8326 non-null   object \n",
      " 3   district             8328 non-null   object \n",
      " 4   city                 8328 non-null   object \n",
      " 5   bedrooms             8171 non-null   float64\n",
      " 6   bathrooms            8183 non-null   float64\n",
      " 7   land_size_m2         8319 non-null   object \n",
      " 8   building_size_m2     8308 non-null   object \n",
      " 9   certificate          8328 non-null   object \n",
      " 10  electricity_power    8288 non-null   object \n",
      " 11  property_condition   7287 non-null   object \n",
      " 12  floor_count          7650 non-null   float64\n",
      " 13  description          8306 non-null   object \n",
      "dtypes: float64(3), object(11)\n",
      "memory usage: 911.0+ KB\n"
     ]
    }
   ],
   "source": [
    "df_rent.info()"
   ]
  },
  {
   "cell_type": "code",
   "execution_count": 168,
   "id": "83c53ab6",
   "metadata": {},
   "outputs": [],
   "source": [
    "# NUMERIC DATA TYPE CONVERSION (2025 DATA)\n",
    "\n",
    "# --- price_in_rp ---\n",
    "for i, val in enumerate(df_sale['price_in_rp']):\n",
    "    if isinstance(val, str):\n",
    "        val = val.replace('Rp', '').replace(',', '.')\n",
    "        if 'Miliar' in val:\n",
    "            val = val.replace('Miliar', '').strip()\n",
    "            val = float(val) * 1_000_000_000\n",
    "        elif 'Juta' in val:\n",
    "            val = val.replace('Juta', '').strip()\n",
    "            val = float(val) * 1_000_000\n",
    "        df_sale.at[i, 'price_in_rp'] = val\n",
    "    # print(i, val)\n",
    "\n",
    "for i, val in enumerate(df_rent['rent_price_per_year']):\n",
    "    if isinstance(val, str):\n",
    "        val = val.replace('Rp', '').replace(',', '.')\n",
    "        if '/bulan' in val or 'per bulan' in val:\n",
    "            val = val.replace('/bulan', '').replace('per bulan', '').strip()\n",
    "            period = 12\n",
    "        elif '/tahun' in val or 'per tahun' in val:\n",
    "            val = val.replace('/tahun', '').replace('per tahun', '').strip()\n",
    "            period = 1\n",
    "        elif '/hari' in val or 'per hari' in val:\n",
    "            val = val.replace('/hari', '').replace('per hari', '').strip()\n",
    "            period = 365\n",
    "\n",
    "        if 'Triliun' in val:\n",
    "            val = val.replace('Triliun', '').strip()\n",
    "            val = float(val) * 1_000_000_000_000 * period\n",
    "        elif 'Miliar' in val:\n",
    "            val = val.replace('Miliar', '').strip()\n",
    "            val = float(val) * 1_000_000_000 * period\n",
    "        elif 'Juta' in val:\n",
    "            val = val.replace('Juta', '').strip()\n",
    "            val = float(val) * 1_000_000 * period\n",
    "        elif 'Ribu' in val:\n",
    "            val = val.replace('Ribu', '').strip()\n",
    "            val = float(val) * 1_000 * period\n",
    "        df_rent.at[i, 'rent_price_per_year'] = float(val)\n",
    "    # print(i, val)\n",
    "\n",
    "\n",
    "# --- land_size_m2 ---\n",
    "if df_sale['land_size_m2'].dtype == 'object':\n",
    "    # Remove 'm²' and convert to float\n",
    "    df_sale['land_size_m2'] = df_sale['land_size_m2'].str.replace('m²', '').str.replace(',', '.').astype(float)\n",
    "if df_rent['land_size_m2'].dtype == 'object':\n",
    "    # Remove 'm²' and convert to float\n",
    "    df_rent['land_size_m2'] = df_rent['land_size_m2'].str.replace('m²', '').str.replace(',', '.').astype(float)\n",
    "\n",
    "# --- building_size_m2 ---\n",
    "if df_sale['building_size_m2'].dtype == 'object':\n",
    "    # Remove 'm²' and convert to float\n",
    "    df_sale['building_size_m2'] = df_sale['building_size_m2'].str.replace('m²', '').str.replace(',', '.').astype(float)\n",
    "if df_rent['building_size_m2'].dtype == 'object':\n",
    "    # Remove 'm²' and convert to float\n",
    "    df_rent['building_size_m2'] = df_rent['building_size_m2'].str.replace('m²', '').str.replace(',', '.').astype(float)\n",
    "\n",
    "# --- electricity_power ---\n",
    "if df_sale['electricity_power'].dtype == 'object':\n",
    "    # Remove 'Watt' and convert to float\n",
    "    df_sale['electricity_power'] = df_sale['electricity_power'].str.replace('Lainnya', '0').str.replace('Watt', '').str.replace(',', '.').astype(float)\n",
    "if df_rent['electricity_power'].dtype == 'object':\n",
    "    # Remove 'Watt' and convert to float\n",
    "    df_rent['electricity_power'] = df_rent['electricity_power'].str.replace('Lainnya', '0').str.replace('Watt', '').str.replace(',', '.').astype(float)\n",
    "\n",
    "\n",
    "# CATEGORICAL DATA CLEANING\n",
    "# standardize certificate values\n",
    "df_sale['certificate'] = df_sale['certificate'].replace(\n",
    "    [\n",
    "        'PPJB', 'Hak Sewa'\n",
    "    ], \n",
    "    'Lainnya')\n",
    "df_rent['certificate'] = df_rent['certificate'].replace(\n",
    "    [\n",
    "        'PPJB', 'Hak Sewa'\n",
    "    ],\n",
    "    'Lainnya')"
   ]
  },
  {
   "cell_type": "code",
   "execution_count": 169,
   "id": "30e85668",
   "metadata": {},
   "outputs": [
    {
     "name": "stdout",
     "output_type": "stream",
     "text": [
      "url                    object\n",
      "title                  object\n",
      "price_in_rp            object\n",
      "district               object\n",
      "city                   object\n",
      "bedrooms              float64\n",
      "bathrooms             float64\n",
      "land_size_m2          float64\n",
      "building_size_m2      float64\n",
      "certificate            object\n",
      "electricity_power     float64\n",
      "property_condition     object\n",
      "floor_count           float64\n",
      "description            object\n",
      "dtype: object\n",
      "\n",
      "url                     object\n",
      "title                   object\n",
      "rent_price_per_year     object\n",
      "district                object\n",
      "city                    object\n",
      "bedrooms               float64\n",
      "bathrooms              float64\n",
      "land_size_m2           float64\n",
      "building_size_m2       float64\n",
      "certificate             object\n",
      "electricity_power      float64\n",
      "property_condition      object\n",
      "floor_count            float64\n",
      "description             object\n",
      "dtype: object\n"
     ]
    }
   ],
   "source": [
    "# check the data types of each column after conversion\n",
    "print(df_sale.dtypes, end='\\n\\n')\n",
    "print(df_rent.dtypes)"
   ]
  },
  {
   "cell_type": "code",
   "execution_count": 170,
   "id": "172e6d6d",
   "metadata": {},
   "outputs": [],
   "source": [
    "# NUMERIC DATA TYPE CONVERSION (2023 HOUSE SALES DATA)\n",
    "\n",
    "# --- electricity_power ---\n",
    "'''\n",
    "- convert mah to watt. 1 Watt = 1 mAh (this is an assumption because somehow the range of electricity between watt in 2025 data and mah in 2023 data is similar)\n",
    "'''\n",
    "if df_sale_2023['electricity_power'].dtype == 'object':\n",
    "    # Replace 'lainnya' with 0, remove 'mah', replace ',' with '.' and convert to float\n",
    "    df_sale_2023['electricity_power'] = df_sale_2023['electricity_power'].str.replace('lainnya', '0').str.replace('mah', '').str.replace(',', '.').astype(float)\n",
    "\n",
    "# --- property condition mapping ---\n",
    "property_condition_mapping = {\n",
    "    'baru': 'Baru',\n",
    "    'bagus sekali': 'Baru',\n",
    "    'bagus': 'Bagus',\n",
    "    'sudah renovasi': 'Sudah Renovasi',\n",
    "    'semi furnished': 0,\n",
    "    'butuh renovasi': 'Butuh Renovasi',\n",
    "    'unfurnished': 0\n",
    "}\n",
    "if df_sale_2023['property_condition'].dtype == 'object':\n",
    "    df_sale_2023['property_condition'] = df_sale_2023['property_condition'].map(property_condition_mapping)\n",
    "\n",
    "# CATEGORICAL DATA CLEANING\n",
    "# standardize certificate values\n",
    "df_sale_2023['certificate'] = df_sale_2023['certificate'].replace(\n",
    "    [\n",
    "        'shm - sertifikat hak milik', 'hgb - hak guna bangunan', 'lainnya (ppjb,girik,adat,dll)', 'hp - hak pakai'\n",
    "    ], \n",
    "    [\n",
    "        'SHM', 'HGB', 'Lainnya', 'Hak Pakai'\n",
    "    ])\n",
    "\n",
    "# trim spaces and whitespaces for categorical features\n",
    "df_sale_2023['district'] = df_sale['district'].str.strip()\n",
    "df_sale_2023['city'] = df_sale_2023['city'].str.strip()"
   ]
  },
  {
   "cell_type": "code",
   "execution_count": 171,
   "id": "df50516f",
   "metadata": {},
   "outputs": [],
   "source": [
    "# check city unique values. Only keep Jabodetabek cities (Jakarta, Bogor, Depok, Tangerang, Bekasi).\n",
    "df_sale.query(\"city == ['Bekasi', 'Bogor', 'Depok', 'Jakarta Barat', 'Jakarta Selatan', 'Jakarta Utara', 'Jakarta Timur', 'Jakarta Pusat', 'Tangerang']\", inplace=True)"
   ]
  },
  {
   "cell_type": "code",
   "execution_count": 172,
   "id": "19a484e6",
   "metadata": {},
   "outputs": [],
   "source": [
    "# DUPLICATE HANDLING\n",
    "'''\n",
    "there's no duplicates in the dataset: df_sale, df_rent, df_sale_2023\n",
    "'''\n",
    "\n",
    "# NULL VALUES HANDLING\n",
    "    # if we don't have time, just dropna. But if we do, do this:\n",
    "'''\n",
    "df_sale:\n",
    "- check ourself from the image or description: bedrooms, bathrooms, floor_count, property_condition\n",
    "\n",
    "df_rent:\n",
    "- check ourself from the image or description: bedrooms, bathrooms, land_size_m2, building_size_m2\n",
    "- fill null (median [Q2] impute): bedrooms, bathrooms, floor_count, property_condition\n",
    "\n",
    "df_sale_2023:\n",
    "- drop null: location, land_size_m2, building_size_m2, certificate, property_condition, floor_count\n",
    "'''\n",
    "\n",
    "# df_sale: just remove every null values\n",
    "df_sale.dropna(subset=df_sale.columns[df_sale.isnull().any()].tolist(), inplace=True)\n",
    "\n",
    "# df_rent:\n",
    "df_rent.dropna(subset=['rent_price_per_year', 'land_size_m2', 'building_size_m2', 'electricity_power'], inplace=True)\n",
    "df_rent['bedrooms'] = df_rent['bedrooms'].fillna(df_rent['bedrooms'].median())\n",
    "df_rent['bathrooms'] = df_rent['bathrooms'].fillna(df_rent['bathrooms'].median())\n",
    "df_rent['floor_count'] = df_rent['floor_count'].fillna(df_rent['floor_count'].median())\n",
    "df_rent.fillna({'property_condition': 0}, inplace=True)\n",
    "\n",
    "# df_sale_2023:\n",
    "df_sale_2023.dropna(subset=['land_size_m2', 'building_size_m2'], inplace=True)\n",
    "df_sale_2023['bedrooms'] = df_sale_2023['bedrooms'].fillna(df_sale_2023['bedrooms'].median())\n",
    "df_sale_2023['bathrooms'] = df_sale_2023['bathrooms'].fillna(df_sale_2023['bathrooms'].median())\n",
    "df_sale_2023['certificate'] = df_sale_2023['certificate'].fillna(0)\n",
    "df_sale_2023['property_condition'] = df_sale_2023['property_condition'].fillna(0)\n",
    "df_sale_2023.fillna({'district': 0}, inplace=True)"
   ]
  },
  {
   "cell_type": "code",
   "execution_count": 173,
   "id": "b597f31c",
   "metadata": {},
   "outputs": [],
   "source": [
    "# REMOVE PRICE OUTLIERS using IQR method\n",
    "def remove_outliers_iqr(df, column):\n",
    "    Q1 = df[column].quantile(0.25)\n",
    "    Q3 = df[column].quantile(0.75)\n",
    "    IQR = Q3 - Q1\n",
    "    lower_bound = Q1 - 1.5 * IQR\n",
    "    upper_bound = Q3 + 1.5 * IQR\n",
    "    return df[(df[column] >= lower_bound) & (df[column] <= upper_bound)]\n",
    "\n",
    "# remove outliers for price_in_rp\n",
    "df_sale = remove_outliers_iqr(df_sale, 'price_in_rp')\n",
    "df_rent = remove_outliers_iqr(df_rent, 'rent_price_per_year')\n",
    "df_sale_2023 = remove_outliers_iqr(df_sale_2023, 'price_in_rp')"
   ]
  },
  {
   "cell_type": "code",
   "execution_count": 175,
   "id": "76c94883",
   "metadata": {},
   "outputs": [],
   "source": [
    "# SAVE CLEANED DATA\n",
    "os.makedirs(cleaned_datasets_path, exist_ok=True)\n",
    "\n",
    "def save_cleaned_data(df, filename):\n",
    "    df.to_csv(os.path.join(cleaned_datasets_path, filename), index=False)\n",
    "\n",
    "save_cleaned_data(df_sale, 'rumah123_2025_sale_properties_cleaned.csv')\n",
    "save_cleaned_data(df_rent, 'rumah123_2025_rent_properties_cleaned.csv')\n",
    "save_cleaned_data(df_sale_2023, 'rumah123_2023_sale_properties_cleaned.csv')"
   ]
  },
  {
   "cell_type": "markdown",
   "id": "4bf93b35",
   "metadata": {},
   "source": [
    "### DATA PREPARATION FOR MODELLING"
   ]
  }
 ],
 "metadata": {
  "kernelspec": {
   "display_name": ".venv",
   "language": "python",
   "name": "python3"
  },
  "language_info": {
   "codemirror_mode": {
    "name": "ipython",
    "version": 3
   },
   "file_extension": ".py",
   "mimetype": "text/x-python",
   "name": "python",
   "nbconvert_exporter": "python",
   "pygments_lexer": "ipython3",
   "version": "3.11.4"
  }
 },
 "nbformat": 4,
 "nbformat_minor": 5
}
